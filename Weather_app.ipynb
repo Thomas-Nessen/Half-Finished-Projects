{
 "cells": [
  {
   "cell_type": "markdown",
   "metadata": {},
   "source": []
  },
  {
   "cell_type": "code",
   "execution_count": 1,
   "metadata": {},
   "outputs": [],
   "source": [
    "import requests  #request a webpage\n",
    "import bs4       #make the page readable & searchable\n",
    "import ast       #extract literal python code from a htlm string"
   ]
  },
  {
   "cell_type": "code",
   "execution_count": 2,
   "metadata": {},
   "outputs": [],
   "source": [
    "degree_sign = u\"\\N{DEGREE SIGN}\""
   ]
  },
  {
   "cell_type": "code",
   "execution_count": 3,
   "metadata": {},
   "outputs": [],
   "source": [
    "#   https://www.buienalarm.nl/amsterdam-amsterdam-nederland/52.37403,4.88969"
   ]
  },
  {
   "cell_type": "code",
   "execution_count": 4,
   "metadata": {},
   "outputs": [],
   "source": [
    "class Color:\n",
    "    PURPLE = '\\033[95m'\n",
    "    CYAN = '\\033[96m'\n",
    "    DARKCYAN = '\\033[36m'\n",
    "    BLUE = '\\033[94m'\n",
    "    GREEN = '\\033[92m'\n",
    "    YELLOW = '\\033[93m'\n",
    "    RED = '\\033[91m'\n",
    "    BOLD = '\\033[1m'\n",
    "    UNDERLINE = '\\033[4m'\n",
    "    END = '\\033[0m'"
   ]
  },
  {
   "cell_type": "code",
   "execution_count": 5,
   "metadata": {},
   "outputs": [],
   "source": [
    "def search_rain(place):# buienradar web scrape\n",
    "    url_buienradar = f'https://www.buienalarm.nl/{place}'\n",
    "    soup = bs4.BeautifulSoup(requests.get(url_buienradar).text,\"lxml\") \n",
    "   \n",
    "    scripts_buienradar = soup.find_all('script')\n",
    "    raw_weather_data = scripts_buienradar[-1] \n",
    "    s = raw_weather_data.string.extract()\n",
    "    \n",
    "    \n",
    "    if 'var weatherData' in s:                           # find the script of interest\n",
    "        clean_data = s.split('=')[3]\n",
    "        clean_data = clean_data[1:(len(clean_data)-31)]  #cut off excess code\n",
    "        \n",
    "        weather_data = ast.literal_eval(clean_data)\n",
    "\n",
    "        rain_minutes = weather_data['minutes']\n",
    "        rain_hours = weather_data['hours']\n",
    "        \n",
    "    return rain_minutes, rain_hours"
   ]
  },
  {
   "cell_type": "code",
   "execution_count": 6,
   "metadata": {},
   "outputs": [],
   "source": [
    "#MAIN SCRIPT\n",
    "def weather_places():\n",
    "    it_rains_in = {}\n",
    "    places = ['haarlem', 'amsterdam', 'groningen', 'den haag', 'leeuwarden', 'assen', 'zwolle', 'lelystad', 'arnhem', 'utrecht', 'middelburg', 'maastricht', \"'s-hertogenbosch\" ]\n",
    "\n",
    "    for place in places:\n",
    "        rain_minutes, rain_hours = search_rain(place)\n",
    "        if (rain_minutes[0]['rain']> 0) & (rain_minutes[1]['rain'] > 0) :\n",
    "            avg_rain = round((rain_minutes[0]['rain']+ rain_minutes[1]['rain'])/2 , 2)\n",
    "            avg_temp = round((rain_minutes[0]['temp']+ rain_minutes[1]['temp'])/2 , 2)\n",
    "\n",
    "            it_rains_in[place] = (avg_rain, avg_temp)\n",
    "        else: \n",
    "            avg_temp = round((rain_minutes[0]['temp']+ rain_minutes[1]['temp'])/2 , 2)\n",
    "            it_rains_in[place] = (0, avg_temp)"
   ]
  },
  {
   "cell_type": "code",
   "execution_count": 7,
   "metadata": {},
   "outputs": [],
   "source": [
    "def display_rain_places():\n",
    "    for place, (rain, temp) in it_rains_in.items():\n",
    "\n",
    "        if rain > 0    and rain <= 0.1:\n",
    "            print(f\"It's drizzeling in\"+ Color.BOLD + f'{place.capitalize()}' + Color.END +f\", {rain}mm/hr, with a temperature of {temp} {degree_sign}C.\\n\")\n",
    "        if rain > 0.1  and rain <= 0.25:\n",
    "            print(f\"It's raining slightly in \"+ Color.BOLD + f'{place.capitalize()}' + Color.END +f\" , {rain}mm/hr, with a temperature of {temp} {degree_sign}C.\\n\") \n",
    "        if rain > 0.25 and rain <= 1:\n",
    "            print(f\"It's raining in \"+ Color.BOLD + f'{place.capitalize()}' + Color.END +f\" , {rain}mm/hr, with a temperature of {temp} {degree_sign}C.\\n\") \n",
    "        if rain > 1    and rain <= 2.5:\n",
    "            print(f\"Get inside \"+ Color.BOLD + f'{place.capitalize()}' + Color.END +f\"!! It's raining hard. {rain}mm/hr, with a temperature of {temp} {degree_sign}C.\\n\")\n",
    "        if rain > 2.5:\n",
    "            print(f\"\"+ Color.BOLD + f'{place.capitalize()}' + Color.END +f\" is drowning!!, {rain}mm/hr, with a temperature of {temp} {degree_sign}C.\\n\")\n",
    "        if rain == 0:\n",
    "            print(f\"\"+ Color.BOLD + f'{place.capitalize()}' + Color.END +f\" is dry!! Go outside! The temperature is {temp} {degree_sign}C.\\n\")"
   ]
  },
  {
   "cell_type": "code",
   "execution_count": 13,
   "metadata": {},
   "outputs": [
    {
     "name": "stdout",
     "output_type": "stream",
     "text": [
      "Where would you like to know the weather? (Netherlands only)\n"
     ]
    },
    {
     "name": "stdin",
     "output_type": "stream",
     "text": [
      "Do you want to input a zipcode or place name? Please enter \"Z\" or \"P\": P\n",
      "Please enter zipcode:  2021\n"
     ]
    }
   ],
   "source": [
    "print('Where would you like to know the weather? (Netherlands only)')\n",
    "choice = input('Do you want to input a zipcode or place name? Please enter \"Z\" or \"P\":' ).upper()\n",
    "zipcode = input('Please enter zipcode: ')\n"
   ]
  },
  {
   "cell_type": "code",
   "execution_count": 9,
   "metadata": {},
   "outputs": [],
   "source": [
    "url_buienradar = f'https://www.buienalarm.nl/9999ZZ'\n",
    "soup = bs4.BeautifulSoup(requests.get(url_buienradar).text,\"lxml\") \n",
    "   \n",
    "scripts_buienradar = soup.find_all('script')\n",
    "raw_weather_data = scripts_buienradar[-1] \n",
    "s = raw_weather_data.string.extract()"
   ]
  },
  {
   "cell_type": "code",
   "execution_count": 10,
   "metadata": {},
   "outputs": [
    {
     "data": {
      "text/plain": [
       "'\\n        var settings = new Settings();\\n        localStorage.canRedirect = false;\\n    '"
      ]
     },
     "execution_count": 10,
     "metadata": {},
     "output_type": "execute_result"
    }
   ],
   "source": [
    "s"
   ]
  },
  {
   "cell_type": "code",
   "execution_count": null,
   "metadata": {},
   "outputs": [],
   "source": []
  },
  {
   "cell_type": "code",
   "execution_count": 11,
   "metadata": {},
   "outputs": [
    {
     "data": {
      "text/plain": [
       "True"
      ]
     },
     "execution_count": 11,
     "metadata": {},
     "output_type": "execute_result"
    }
   ],
   "source": [
    "\"false\" in s"
   ]
  },
  {
   "cell_type": "code",
   "execution_count": 12,
   "metadata": {},
   "outputs": [
    {
     "data": {
      "text/plain": [
       "False"
      ]
     },
     "execution_count": 12,
     "metadata": {},
     "output_type": "execute_result"
    }
   ],
   "source": [
    "'host_name' in scripts_buienradar[0].extract()"
   ]
  },
  {
   "cell_type": "code",
   "execution_count": 14,
   "metadata": {},
   "outputs": [
    {
     "ename": "IndexError",
     "evalue": "list index out of range",
     "output_type": "error",
     "traceback": [
      "\u001b[1;31m---------------------------------------------------------------------------\u001b[0m",
      "\u001b[1;31mIndexError\u001b[0m                                Traceback (most recent call last)",
      "\u001b[1;32m<ipython-input-14-0d201ab3e7b2>\u001b[0m in \u001b[0;36m<module>\u001b[1;34m\u001b[0m\n\u001b[1;32m----> 1\u001b[1;33m \u001b[0mweather_places\u001b[0m\u001b[1;33m(\u001b[0m\u001b[1;33m)\u001b[0m\u001b[1;33m\u001b[0m\u001b[1;33m\u001b[0m\u001b[0m\n\u001b[0m",
      "\u001b[1;32m<ipython-input-6-4d91484158d7>\u001b[0m in \u001b[0;36mweather_places\u001b[1;34m()\u001b[0m\n\u001b[0;32m      5\u001b[0m \u001b[1;33m\u001b[0m\u001b[0m\n\u001b[0;32m      6\u001b[0m     \u001b[1;32mfor\u001b[0m \u001b[0mplace\u001b[0m \u001b[1;32min\u001b[0m \u001b[0mplaces\u001b[0m\u001b[1;33m:\u001b[0m\u001b[1;33m\u001b[0m\u001b[1;33m\u001b[0m\u001b[0m\n\u001b[1;32m----> 7\u001b[1;33m         \u001b[0mrain_minutes\u001b[0m\u001b[1;33m,\u001b[0m \u001b[0mrain_hours\u001b[0m \u001b[1;33m=\u001b[0m \u001b[0msearch_rain\u001b[0m\u001b[1;33m(\u001b[0m\u001b[0mplace\u001b[0m\u001b[1;33m)\u001b[0m\u001b[1;33m\u001b[0m\u001b[1;33m\u001b[0m\u001b[0m\n\u001b[0m\u001b[0;32m      8\u001b[0m         \u001b[1;32mif\u001b[0m \u001b[1;33m(\u001b[0m\u001b[0mrain_minutes\u001b[0m\u001b[1;33m[\u001b[0m\u001b[1;36m0\u001b[0m\u001b[1;33m]\u001b[0m\u001b[1;33m[\u001b[0m\u001b[1;34m'rain'\u001b[0m\u001b[1;33m]\u001b[0m\u001b[1;33m>\u001b[0m \u001b[1;36m0\u001b[0m\u001b[1;33m)\u001b[0m \u001b[1;33m&\u001b[0m \u001b[1;33m(\u001b[0m\u001b[0mrain_minutes\u001b[0m\u001b[1;33m[\u001b[0m\u001b[1;36m1\u001b[0m\u001b[1;33m]\u001b[0m\u001b[1;33m[\u001b[0m\u001b[1;34m'rain'\u001b[0m\u001b[1;33m]\u001b[0m \u001b[1;33m>\u001b[0m \u001b[1;36m0\u001b[0m\u001b[1;33m)\u001b[0m \u001b[1;33m:\u001b[0m\u001b[1;33m\u001b[0m\u001b[1;33m\u001b[0m\u001b[0m\n\u001b[0;32m      9\u001b[0m             \u001b[0mavg_rain\u001b[0m \u001b[1;33m=\u001b[0m \u001b[0mround\u001b[0m\u001b[1;33m(\u001b[0m\u001b[1;33m(\u001b[0m\u001b[0mrain_minutes\u001b[0m\u001b[1;33m[\u001b[0m\u001b[1;36m0\u001b[0m\u001b[1;33m]\u001b[0m\u001b[1;33m[\u001b[0m\u001b[1;34m'rain'\u001b[0m\u001b[1;33m]\u001b[0m\u001b[1;33m+\u001b[0m \u001b[0mrain_minutes\u001b[0m\u001b[1;33m[\u001b[0m\u001b[1;36m1\u001b[0m\u001b[1;33m]\u001b[0m\u001b[1;33m[\u001b[0m\u001b[1;34m'rain'\u001b[0m\u001b[1;33m]\u001b[0m\u001b[1;33m)\u001b[0m\u001b[1;33m/\u001b[0m\u001b[1;36m2\u001b[0m \u001b[1;33m,\u001b[0m \u001b[1;36m2\u001b[0m\u001b[1;33m)\u001b[0m\u001b[1;33m\u001b[0m\u001b[1;33m\u001b[0m\u001b[0m\n",
      "\u001b[1;32m<ipython-input-5-def6c832515d>\u001b[0m in \u001b[0;36msearch_rain\u001b[1;34m(place)\u001b[0m\n\u001b[0;32m      4\u001b[0m \u001b[1;33m\u001b[0m\u001b[0m\n\u001b[0;32m      5\u001b[0m     \u001b[0mscripts_buienradar\u001b[0m \u001b[1;33m=\u001b[0m \u001b[0msoup\u001b[0m\u001b[1;33m.\u001b[0m\u001b[0mfind_all\u001b[0m\u001b[1;33m(\u001b[0m\u001b[1;34m'script'\u001b[0m\u001b[1;33m)\u001b[0m\u001b[1;33m\u001b[0m\u001b[1;33m\u001b[0m\u001b[0m\n\u001b[1;32m----> 6\u001b[1;33m     \u001b[0mraw_weather_data\u001b[0m \u001b[1;33m=\u001b[0m \u001b[0mscripts_buienradar\u001b[0m\u001b[1;33m[\u001b[0m\u001b[1;33m-\u001b[0m\u001b[1;36m1\u001b[0m\u001b[1;33m]\u001b[0m\u001b[1;33m\u001b[0m\u001b[1;33m\u001b[0m\u001b[0m\n\u001b[0m\u001b[0;32m      7\u001b[0m     \u001b[0ms\u001b[0m \u001b[1;33m=\u001b[0m \u001b[0mraw_weather_data\u001b[0m\u001b[1;33m.\u001b[0m\u001b[0mstring\u001b[0m\u001b[1;33m.\u001b[0m\u001b[0mextract\u001b[0m\u001b[1;33m(\u001b[0m\u001b[1;33m)\u001b[0m\u001b[1;33m\u001b[0m\u001b[1;33m\u001b[0m\u001b[0m\n\u001b[0;32m      8\u001b[0m \u001b[1;33m\u001b[0m\u001b[0m\n",
      "\u001b[1;31mIndexError\u001b[0m: list index out of range"
     ]
    }
   ],
   "source": [
    "weather_places()"
   ]
  }
 ],
 "metadata": {
  "kernelspec": {
   "display_name": "Python 3",
   "language": "python",
   "name": "python3"
  },
  "language_info": {
   "codemirror_mode": {
    "name": "ipython",
    "version": 3
   },
   "file_extension": ".py",
   "mimetype": "text/x-python",
   "name": "python",
   "nbconvert_exporter": "python",
   "pygments_lexer": "ipython3",
   "version": "3.8.3"
  }
 },
 "nbformat": 4,
 "nbformat_minor": 4
}
